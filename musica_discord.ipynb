{
 "cells": [
  {
   "cell_type": "code",
   "execution_count": 2,
   "metadata": {},
   "outputs": [],
   "source": [
    "import pyautogui\n",
    "import time\n",
    "import pyperclip\n",
    "# O CÓDIGO VALE PARA QUANDO VOCÊ JÁ ESTÁ EM ALGUM CANAL \n",
    "pyautogui.press('win')\n",
    "time.sleep(1)\n",
    "pyautogui.write('discord')\n",
    "time.sleep(3)\n",
    "pyautogui.press('enter')\n",
    "time.sleep(20)\n",
    "pyautogui.click(x=36, y=389) #COORDENADAS DO SERVER QUE VOCÊ DESEJA\n",
    "time.sleep(1)\n",
    "pyautogui.click(x=170, y=191) #COORDENADAS DO CANAL QUE DESEJA ESCREVER O CÓDIGO DO BOT DE MÚSICA\n",
    "time.sleep(1)\n",
    "pyautogui.click(x=564, y=680)\n",
    "time.sleep(1)\n",
    "pyautogui.write(' * comando + musica* ') # CÓDIGO PARA CHAMAR O BOT + NOME DA MÚSICA/PLAYLIST\n",
    "pyautogui.press('enter')"
   ]
  },
  {
   "cell_type": "code",
   "execution_count": 3,
   "metadata": {},
   "outputs": [
    {
     "data": {
      "text/plain": [
       "Point(x=241, y=240)"
      ]
     },
     "execution_count": 3,
     "metadata": {},
     "output_type": "execute_result"
    }
   ],
   "source": [
    "# AQUI VOCÊ DESCOBRE A LOCALIZAÇÃO PARA O MOUSE\n",
    "time.sleep(5)\n",
    "pyautogui.position()"
   ]
  }
 ],
 "metadata": {
  "kernelspec": {
   "display_name": "Python 3",
   "language": "python",
   "name": "python3"
  },
  "language_info": {
   "codemirror_mode": {
    "name": "ipython",
    "version": 3
   },
   "file_extension": ".py",
   "mimetype": "text/x-python",
   "name": "python",
   "nbconvert_exporter": "python",
   "pygments_lexer": "ipython3",
   "version": "3.11.0 (main, Oct 24 2022, 18:26:48) [MSC v.1933 64 bit (AMD64)]"
  },
  "orig_nbformat": 4,
  "vscode": {
   "interpreter": {
    "hash": "5ffd7eb2cebf9ac436b5021ba01877e9cee6b03524e01bf8c8637d3e64111215"
   }
  }
 },
 "nbformat": 4,
 "nbformat_minor": 2
}
