{
 "cells": [
  {
   "cell_type": "code",
   "execution_count": null,
   "metadata": {},
   "outputs": [],
   "source": [
    "import pyautogui\n",
    "import pyperclip\n",
    "import time\n",
    "pyautogui.press('win')\n",
    "time.sleep(1)\n",
    "pyautogui.write('* nome do navegador* ')\n",
    "time.sleep(1)\n",
    "pyautogui.press('enter')\n",
    "time.sleep(2)\n",
    "pyautogui.hotkey('ctrl', 't')\n",
    "time.sleep(2)\n",
    "pyautogui.click(x=15, y=85)\n",
    "time.sleep(2)\n",
    "pyautogui.click(x=220, y=110)\n",
    "time.sleep(2)\n",
    "pyautogui.write(' *nome do contato* ')\n",
    "time.sleep(2)\n",
    "pyautogui.click(x=241, y=244, clicks=3)\n",
    "time.sleep(2)\n",
    "pyautogui.click(x=669, y=699, clicks= 2)\n",
    "time.sleep(2)\n",
    "pyautogui.write(' *mensagem* ')\n",
    "time.sleep(2)\n",
    "#pyautogui.press('enter')\n"
   ]
  },
  {
   "cell_type": "code",
   "execution_count": 3,
   "metadata": {},
   "outputs": [
    {
     "data": {
      "text/plain": [
       "Point(x=165, y=300)"
      ]
     },
     "execution_count": 3,
     "metadata": {},
     "output_type": "execute_result"
    }
   ],
   "source": [
    "# AQUI VOCÊ DESCOBRE A LOCALIZAÇÃO PARA O MOUSE\n",
    "time.sleep(5)\n",
    "pyautogui.position()"
   ]
  }
 ],
 "metadata": {
  "kernelspec": {
   "display_name": "Python 3",
   "language": "python",
   "name": "python3"
  },
  "language_info": {
   "codemirror_mode": {
    "name": "ipython",
    "version": 3
   },
   "file_extension": ".py",
   "mimetype": "text/x-python",
   "name": "python",
   "nbconvert_exporter": "python",
   "pygments_lexer": "ipython3",
   "version": "3.11.0 (main, Oct 24 2022, 18:26:48) [MSC v.1933 64 bit (AMD64)]"
  },
  "orig_nbformat": 4,
  "vscode": {
   "interpreter": {
    "hash": "5ffd7eb2cebf9ac436b5021ba01877e9cee6b03524e01bf8c8637d3e64111215"
   }
  }
 },
 "nbformat": 4,
 "nbformat_minor": 2
}
