{
 "cells": [
  {
   "cell_type": "code",
   "execution_count": null,
   "metadata": {},
   "outputs": [],
   "source": [
    "import pyperclip\n",
    "import pyautogui\n",
    "\n",
    "# ESSE CÓDIGO TEM COMO INTUITO DE REALIZAR UMA POSTAGEM AUTOMÁTICA NO LINKEDIN\n",
    "\n",
    "pyautogui.hotkey('ctrl', 't')\n",
    "time.sleep(1)\n",
    "pyperclip.copy('https://www.linkedin.com/feed/')\n",
    "pyautogui.hotkey('ctrl', 'v')\n",
    "pyautogui.press('enter')\n",
    "time.sleep(6)\n",
    "pyautogui.click(x=619, y=167) #clicar para fazer post\n",
    "time.sleep(1)\n",
    "pyautogui.click(x=486, y=412) #add foto\n",
    "time.sleep(1)\n",
    "pyautogui.click(x=728, y=692)\n",
    "time.sleep(1)\n",
    "pyautogui.click(x=243, y=211, clicks=2) #ESSA PROCURA FOI FEITA NOS MEUS ARQUIVOS PESSOAIS\n",
    "time.sleep(1)\n",
    "pyautogui.click(x=882, y=548)\n",
    "time.sleep(2)\n",
    "pyautogui.click(x=608, y=246)\n",
    "time.sleep(1)\n",
    "pyperclip.copy('Esse post foi feito automaticamente a base de python e jupyter !!!')\n",
    "time.sleep(1)\n",
    "pyautogui.hotkey('ctrl', 'v')\n",
    "time.sleep(2)\n",
    "pyautogui.click(x=896, y=517)"
   ]
  },
  {
   "cell_type": "code",
   "execution_count": null,
   "metadata": {},
   "outputs": [],
   "source": [
    "# AQUI VOCÊ DESCOBRE A LOCALIZAÇÃO PARA O MOUSE\n",
    "time.sleep(5)\n",
    "pyautogui.position()"
   ]
  }
 ],
 "metadata": {
  "kernelspec": {
   "display_name": "Python 3",
   "language": "python",
   "name": "python3"
  },
  "language_info": {
   "name": "python",
   "version": "3.11.0 (main, Oct 24 2022, 18:26:48) [MSC v.1933 64 bit (AMD64)]"
  },
  "orig_nbformat": 4,
  "vscode": {
   "interpreter": {
    "hash": "5ffd7eb2cebf9ac436b5021ba01877e9cee6b03524e01bf8c8637d3e64111215"
   }
  }
 },
 "nbformat": 4,
 "nbformat_minor": 2
}
